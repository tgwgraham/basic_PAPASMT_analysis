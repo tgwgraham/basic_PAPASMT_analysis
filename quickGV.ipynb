{
 "cells": [
  {
   "cell_type": "code",
   "execution_count": 2,
   "id": "505536af",
   "metadata": {},
   "outputs": [],
   "source": [
    "import numpy as np\n",
    "import pandas as pd\n",
    "from matplotlib import pyplot as plt\n",
    "from autosmt_utils import get_gv_framenum\n",
    "from glob import glob\n",
    "import re"
   ]
  },
  {
   "cell_type": "code",
   "execution_count": 3,
   "id": "0f42ba0c",
   "metadata": {},
   "outputs": [],
   "source": [
    "config = {'illumination_sequence':{\n",
    "    'ncycles':5,\n",
    "    'r':30,\n",
    "    'g':0,\n",
    "    'v':0,\n",
    "    'framewindow':30,\n",
    "    'gfirst':False,\n",
    "}}"
   ]
  },
  {
   "cell_type": "code",
   "execution_count": 4,
   "id": "ef601c1e",
   "metadata": {},
   "outputs": [],
   "source": [
    "fnums = get_gv_framenum(config)"
   ]
  },
  {
   "cell_type": "code",
   "execution_count": 5,
   "id": "21386ccd",
   "metadata": {},
   "outputs": [],
   "source": [
    "filenames = glob('../tracking/*csv')"
   ]
  },
  {
   "cell_type": "code",
   "execution_count": 6,
   "id": "cf56ea0f",
   "metadata": {},
   "outputs": [],
   "source": [
    "gv_ratios = np.array([])\n",
    "for f in filenames:\n",
    "    n = int(re.search(r'\\d+', f).group())\n",
    "    df = pd.read_csv(f)\n",
    "    v = df['frame'].isin(fnums['vpost']).sum() - df['frame'].isin(fnums['vpre']).sum()\n",
    "    g = df['frame'].isin(fnums['gpost']).sum() - df['frame'].isin(fnums['gpre']).sum()\n",
    "    if gv_ratios.size == 0:\n",
    "        gv_ratios = np.array([n,g,v,g/v])\n",
    "    else:\n",
    "        gv_ratios = np.vstack((gv_ratios,np.array([n,g,v,g/v])))"
   ]
  },
  {
   "cell_type": "code",
   "execution_count": 7,
   "id": "e7d1b698",
   "metadata": {},
   "outputs": [
    {
     "data": {
      "image/png": "[encoded data removed]",
      "text/plain": [
       "<Figure size 432x288 with 1 Axes>"
      ]
     },
     "metadata": {
      "needs_background": "light"
     },
     "output_type": "display_data"
    }
   ],
   "source": [
    "threshold = 0\n",
    "sel = gv_ratios[:,2]>threshold\n",
    "plt.plot(gv_ratios[sel,0],gv_ratios[sel,3],'.')\n",
    "plt.ylim([0,10]);"
   ]
  },
  {
   "cell_type": "code",
   "execution_count": 11,
   "id": "7f4d8b3d",
   "metadata": {},
   "outputs": [],
   "source": [
    "!mkdir gv\n",
    "np.savetxt('gv/gv.csv',gv_ratios)"
   ]
  }
 ],
 "metadata": {
  "kernelspec": {
   "display_name": "Python 3",
   "language": "python",
   "name": "python3"
  },
  "language_info": {
   "codemirror_mode": {
    "name": "ipython",
    "version": 3
   },
   "file_extension": ".py",
   "mimetype": "text/x-python",
   "name": "python",
   "nbconvert_exporter": "python",
   "pygments_lexer": "ipython3",
   "version": "3.7.4"
  }
 },
 "nbformat": 4,
 "nbformat_minor": 5
}
